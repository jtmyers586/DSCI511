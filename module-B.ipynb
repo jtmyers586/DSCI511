{
 "cells": [
  {
   "cell_type": "markdown",
   "metadata": {},
   "source": [
    "## Module submission header\n",
    "### Submission preparation instructions \n",
    "_Completion of this header is mandatory, subject to a 2-point deduction to the assignment._ Only add plain text in the designated areas, i.e., replacing the relevant 'NA's. You must fill out all group member Names and Drexel email addresses in the below markdown list, under header __Module submission group__. It is required to fill out descriptive notes pertaining to any tutoring support received in the completion of this submission under the __Additional submission comments__ section at the bottom of the header. If no tutoring support was received, leave NA in place. You may as well list other optional comments pertaining to the submission at bottom. _Any distruption of this header's formatting will make your group liable to the 2-point deduction._\n",
    "\n",
    "### Module submission group\n",
    "- Group member 1\n",
    "    - Name: Johnny Myers\n",
    "    - Email: jtm372@drexel.edu\n",
    "- Group member 2\n",
    "    - Name: Hyung Wook Choi\n",
    "    - Email: hc685@drexel.edu\n",
    "- Group member 3\n",
    "    - Name: Naimish Bizzu\n",
    "    - Email: nb924@drexel.edu\n",
    "- Group member 4\n",
    "    - Name: Sushanth Reddy Sangannagari\n",
    "    - Email: ss5228@drexel.edu\n",
    "\n",
    "### Additional submission comments\n",
    "- Tutoring support received: NA\n",
    "- Other (other): NA"
   ]
  },
  {
   "cell_type": "markdown",
   "metadata": {},
   "source": [
    "# Assignment Group 1\n"
   ]
  },
  {
   "cell_type": "markdown",
   "metadata": {},
   "source": [
    "## Module B _(23 points)_\n",
    "\n",
    "__B1.__ _(5 points)_ You will be using part of the [Goodbooks 10k dataset](https://github.com/zygmuntz/goodbooks-10k) for this module. Read the `data/goodreads-books.csv` file into a list. Create a dictionary for each book in the list that contains these fields: authors, original title, original publication year, average rating, and ratings count. (You should convert average rating and ratings count into `float` and `int` types.) Put all these metadata dictionaries into a list. "
   ]
  },
  {
   "cell_type": "code",
   "execution_count": 1,
   "metadata": {},
   "outputs": [
    {
     "name": "stdout",
     "output_type": "stream",
     "text": [
      "dict_keys(['book_id', 'goodreads_book_id', 'best_book_id', 'work_id', 'books_count', 'isbn', 'isbn13', 'authors', 'original_publication_year', 'original_title', 'title', 'language_code', 'average_rating', 'ratings_count', 'work_ratings_count', 'work_text_reviews_count', 'ratings_1', 'ratings_2', 'ratings_3', 'ratings_4', 'ratings_5', 'image_url', 'small_image_url'])\n",
      "\n",
      "\n",
      "[{'original_title': 'The Hunger Games', 'authors': 'Suzanne Collins', 'original_publication_year': '2008', 'ratings_count': 4780653, 'average_rating': 4.34}]\n"
     ]
    }
   ],
   "source": [
    "# You will be using part of the Goodbooks 10k dataset for this module. \n",
    "# Read the data/goodreads-books.csv file into a list. \n",
    "\n",
    "import csv\n",
    "import json\n",
    "\n",
    "books_file = csv.reader(open(\"data/goodreads-books.csv\", \"r\", encoding = \"mbcs\"))\n",
    "Books = {}\n",
    "i = 0\n",
    "for line in books_file:\n",
    "    if i: #newly initiated list is false\n",
    "        for j in range(len(header)):\n",
    "            heading = header[j]\n",
    "            data = line[j]\n",
    "            Books[heading].append(data)\n",
    "    else:\n",
    "        header = line\n",
    "        for heading in header:\n",
    "            Books[heading] = []\n",
    "    i += 1\n",
    "    \n",
    "print(Books.keys()) # we have book keys as all values. For next step, need only five parameters.\n",
    "print('\\n')\n",
    "\n",
    "# parameters required for TotalBook (a misnomer: only using relevant parameters)\n",
    "Authors = Books['authors']\n",
    "Title = Books['original_title']\n",
    "Year = Books['original_publication_year']\n",
    "rateCount = [int(i) for i in Books['ratings_count']] # encode as int value\n",
    "avgRate = [float(i) for i in Books['average_rating']] # encode as float value\n",
    "\n",
    "# new dictionary: start as list\n",
    "TotalBook = []\n",
    "\n",
    "for i in range(len(Title)):\n",
    "    # for first value in new dictionary, need dict function to declare totalBook as a dict.\n",
    "    TotalBook.append(dict([(\"original_title\", Books[\"original_title\"][i])])) # append title as dictionary to TotalBook.\n",
    "    \n",
    "    # for rest of values, just add each value as key.\n",
    "    TotalBook[i][\"authors\"] = Authors[i] #append Authors values to key(authors)\n",
    "    TotalBook[i][\"original_publication_year\"] = Year[i] #append year values to key(year)\n",
    "    TotalBook[i][\"ratings_count\"] = rateCount[i] #append ratings count values to key(ratings count)\n",
    "    TotalBook[i][\"average_rating\"] = avgRate[i] #append avg rating values to key(avg rating)\n",
    "\n",
    "print(TotalBook[:1])"
   ]
  },
  {
   "cell_type": "markdown",
   "metadata": {},
   "source": [
    "__B2.__ _(4 points)_ Write a function to sort this list of book metadata in descending order of average rating. The function should take the list of metadata dictionaries as an input argument. "
   ]
  },
  {
   "cell_type": "code",
   "execution_count": 2,
   "metadata": {},
   "outputs": [
    {
     "name": "stdout",
     "output_type": "stream",
     "text": [
      "[{'original_title': 'One Night @ The Call Center', 'authors': 'Chetan Bhagat', 'original_publication_year': '2005', 'ratings_count': 40718, 'average_rating': 2.47}, {'original_title': 'The Almost Moon', 'authors': 'Alice Sebold', 'original_publication_year': '2007', 'ratings_count': 28299, 'average_rating': 2.67}, {'original_title': 'The Finkler Question', 'authors': 'Howard Jacobson', 'original_publication_year': '2010', 'ratings_count': 9627, 'average_rating': 2.76}, {'original_title': 'Four Blondes', 'authors': 'Candace Bushnell', 'original_publication_year': '2000', 'ratings_count': 22278, 'average_rating': 2.8}, {'original_title': 'Lost', 'authors': 'Gregory Maguire, Douglas Smith', 'original_publication_year': '2001', 'ratings_count': 12534, 'average_rating': 2.8}]\n"
     ]
    }
   ],
   "source": [
    "# Write a function to sort this list of book metadata in descending order of average rating.\n",
    "# The function should take the list of metadata dictionaries as an input argument.\n",
    "def SortBooks(data):\n",
    "    SortedList = sorted(data, key=lambda x: x['average_rating'], reverse= 0)\n",
    "    return SortedList\n",
    "\n",
    "#Run the function\n",
    "sort_books = SortBooks(TotalBook)\n",
    "print(sort_books[:5])\n",
    "\n",
    "# First book: One night at the call center, 2.47 rating\n",
    "# second book: The almost moon, 2.67 rating\n",
    "# function works!"
   ]
  },
  {
   "cell_type": "markdown",
   "metadata": {},
   "source": [
    "__B3.__ _(5 points)_ Update the function to take two arguments: the list, and an integer value for minimum ratings count. The function should now sort _and_ filter the list, returning a list of books sorted by average rating that have been rated by more than a specified number of users. You can use three different approaches: loops, comprehensions, and the built-in `filter()` function (look up documentation and examples). "
   ]
  },
  {
   "cell_type": "code",
   "execution_count": 3,
   "metadata": {},
   "outputs": [
    {
     "name": "stdout",
     "output_type": "stream",
     "text": [
      "[{'original_title': 'Harry Potter and the Deathly Hallows', 'authors': 'J.K. Rowling, Mary GrandPrÃ©', 'original_publication_year': '2007', 'ratings_count': 1746574, 'average_rating': 4.61}, {'original_title': \"The Wise Man's Fear\", 'authors': 'Patrick Rothfuss', 'original_publication_year': '2011', 'ratings_count': 245686, 'average_rating': 4.57}, {'original_title': 'The Name of the Wind', 'authors': 'Patrick Rothfuss', 'original_publication_year': '2007', 'ratings_count': 400101, 'average_rating': 4.55}, {'original_title': 'Harry Potter and the Half-Blood Prince', 'authors': 'J.K. Rowling, Mary GrandPrÃ©', 'original_publication_year': '2005', 'ratings_count': 1678823, 'average_rating': 4.54}, {'original_title': 'A Storm of Swords', 'authors': 'George R.R. Martin', 'original_publication_year': '2000', 'ratings_count': 469022, 'average_rating': 4.54}, {'original_title': 'The Nightingale', 'authors': 'Kristin Hannah', 'original_publication_year': '2015', 'ratings_count': 253606, 'average_rating': 4.54}, {'original_title': 'Harry Potter and the Prisoner of Azkaban', 'authors': 'J.K. Rowling, Mary GrandPrÃ©, Rufus Beck', 'original_publication_year': '1999', 'ratings_count': 1832823, 'average_rating': 4.53}, {'original_title': 'Harry Potter and the Goblet of Fire', 'authors': 'J.K. Rowling, Mary GrandPrÃ©', 'original_publication_year': '2000', 'ratings_count': 1753043, 'average_rating': 4.53}, {'original_title': 'The Return of the King', 'authors': 'J.R.R. Tolkien', 'original_publication_year': '1955', 'ratings_count': 463959, 'average_rating': 4.51}, {'original_title': 'The Last Olympian', 'authors': 'Rick Riordan', 'original_publication_year': '2009', 'ratings_count': 397500, 'average_rating': 4.5}]\n"
     ]
    }
   ],
   "source": [
    "# Update the function to take two arguments: the list, and an integer value for minimum ratings count.\n",
    "# The function should now sort and filter the list, returning a list of books sorted by average rating that have been rated by more than a specified number of users. \n",
    "# You can use three different approaches: loops, comprehensions, and the built-in filter() function (look up documentation and examples).\n",
    "\n",
    "# filterSort Books: uses filter() function to first filter books \n",
    "def filterBooks(data, minratings):\n",
    "    \n",
    "    # First, filter the list to have a minimum ratings count. Take an int\n",
    "    FilteredList = list(filter(lambda x: x['ratings_count'] > minratings, data))\n",
    "    \n",
    "    # Then, sort the list based on average rating (highest rating)\n",
    "    SortedList = sorted(FilteredList, key=lambda x: x['average_rating'], reverse=1)\n",
    "    return SortedList\n",
    "\n",
    "filter_book = filterBooks(TotalBook, 200000)\n",
    "print(filter_book[:10])\n",
    "\n",
    "# First book: deathly hallows, 4.61 rating, ratings count = 1746574\n",
    "# second book: The almost moon, wise man's fear, 4.57 rating, ratings count = 245686\n",
    "# note: also sorts function based on ratings count."
   ]
  },
  {
   "cell_type": "markdown",
   "metadata": {},
   "source": [
    "__B4:__ _(7 points)_ Now use the other two approaches to create different versions of the function. See if you can condense your code into a single line for some of the approaches! "
   ]
  },
  {
   "cell_type": "code",
   "execution_count": 31,
   "metadata": {},
   "outputs": [
    {
     "name": "stdout",
     "output_type": "stream",
     "text": [
      "[{'original_title': 'The Complete Calvin and Hobbes', 'authors': 'Bill Watterson', 'original_publication_year': '2005', 'ratings_count': 28900, 'average_rating': 4.82}, {'original_title': 'Words of Radiance', 'authors': 'Brandon Sanderson', 'original_publication_year': '2014', 'ratings_count': 73572, 'average_rating': 4.77}]\n",
      "[{'original_title': 'The Complete Calvin and Hobbes', 'authors': 'Bill Watterson', 'original_publication_year': '2005', 'ratings_count': 28900, 'average_rating': 4.82}, {'original_title': 'Words of Radiance', 'authors': 'Brandon Sanderson', 'original_publication_year': '2014', 'ratings_count': 73572, 'average_rating': 4.77}]\n"
     ]
    }
   ],
   "source": [
    "# Now use the other two approaches to create different versions of the function. \n",
    "# See if you can condense your code into a single line for some of the approaches!\n",
    "\n",
    "# Using loops\n",
    "def loopSort(data, minratings):\n",
    "    # have a set which we append filtered books\n",
    "    fBooks = [] # f for filtered\n",
    "    for books in data:\n",
    "        if books['ratings_count'] > minratings:\n",
    "            fBooks.append(books)\n",
    "    # now we have a complete fBooks (filtered books)\n",
    "    # sort the books in fBooks by average rating.\n",
    "    SortedList = sorted(fBooks, key=lambda x: x['average_rating'], reverse=True)\n",
    "    # return the sorted books\n",
    "    return SortedList\n",
    "\n",
    "loop_sort = loopSort(TotalBook, 10000)\n",
    "print(loop_sort[:2])\n",
    "\n",
    "\n",
    "\n",
    "# Using comprehensions: a comprehension is \n",
    "def compSort(data, minratings):\n",
    "    # first filter books (called fBooks)\n",
    "    fBooks = [books for books in data if books['ratings_count'] > minratings]\n",
    "    # then sort books (sortedBooks)\n",
    "    sBooks = sorted(fBooks, key=lambda x: x['average_rating'], reverse=True)\n",
    "    return sBooks\n",
    "\n",
    "comp_sort = compSort(TotalBook, 10000)\n",
    "print(comp_sort[:2])\n",
    "\n",
    "# all functions return the same value"
   ]
  },
  {
   "cell_type": "markdown",
   "metadata": {},
   "source": [
    "__B5.__ _(2 points)_ Why is using a function for this task prudent? What do you think is an acceptable minimum ratings count? Answer these questiions in the response box below."
   ]
  },
  {
   "cell_type": "markdown",
   "metadata": {},
   "source": [
    "Response."
   ]
  },
  {
   "cell_type": "markdown",
   "metadata": {},
   "source": [
    "Using a function is helpful because we want to look at books with a lot of ratings count. A high ratings count signifies a more read book, which may have more accurate ratings averages. A book with a low ratings count may have a skewed average rating. A minimum acceptable ratings count would probably be in the top 20% of all counts. For this dataset, that value would be:"
   ]
  },
  {
   "cell_type": "code",
   "execution_count": 41,
   "metadata": {},
   "outputs": [
    {
     "name": "stdout",
     "output_type": "stream",
     "text": [
      "50089.60000008345\n"
     ]
    }
   ],
   "source": [
    "import numpy\n",
    "\n",
    "ratings_count = []\n",
    "for i in rateCount:\n",
    "    ratings_count.append(rateCount)\n",
    "        \n",
    "print(numpy.percentile(ratings_count,80))\n",
    "# At least 50,000 ratings required"
   ]
  },
  {
   "cell_type": "code",
   "execution_count": null,
   "metadata": {},
   "outputs": [],
   "source": []
  }
 ],
 "metadata": {
  "kernelspec": {
   "display_name": "Python 3",
   "language": "python",
   "name": "python3"
  },
  "language_info": {
   "codemirror_mode": {
    "name": "ipython",
    "version": 3
   },
   "file_extension": ".py",
   "mimetype": "text/x-python",
   "name": "python",
   "nbconvert_exporter": "python",
   "pygments_lexer": "ipython3",
   "version": "3.7.7"
  }
 },
 "nbformat": 4,
 "nbformat_minor": 2
}
